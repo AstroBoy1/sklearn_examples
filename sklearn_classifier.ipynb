{
  "nbformat": 4,
  "nbformat_minor": 0,
  "metadata": {
    "colab": {
      "name": "sklearn_classifier.ipynb",
      "version": "0.3.2",
      "provenance": [],
      "collapsed_sections": [],
      "include_colab_link": true
    },
    "kernelspec": {
      "name": "python3",
      "display_name": "Python 3"
    }
  },
  "cells": [
    {
      "cell_type": "markdown",
      "metadata": {
        "id": "view-in-github",
        "colab_type": "text"
      },
      "source": [
        "<a href=\"https://colab.research.google.com/github/peterjsadowski/sklearn_examples/blob/master/sklearn_classifier.ipynb\" target=\"_parent\"><img src=\"https://colab.research.google.com/assets/colab-badge.svg\" alt=\"Open In Colab\"/></a>"
      ]
    },
    {
      "metadata": {
        "id": "39Tfh8_n_DbK",
        "colab_type": "code",
        "colab": {}
      },
      "cell_type": "code",
      "source": [
        "import numpy as np\n",
        "import sklearn\n",
        "from sklearn import linear_model\n",
        "from sklearn.model_selection import cross_val_score\n",
        "# For more details see https://scikit-learn.org/stable/modules/linear_model.html\n",
        "\n",
        "# Load data.\n",
        "data = np.loadtxt('train_data.csv', skiprows=1, delimiter=',')\n",
        "Y = data[:, 0]\n",
        "X = data[:, 1:]\n",
        "\n",
        "# TODO: PREPROCESS/NORMALIZE DATA HERE\n",
        "\n",
        "# Divide data into train and validation set.\n",
        "N_train, N_valid = 900, 100\n",
        "X_train, X_valid = X[0:N_train, :], X[N_train:, :]\n",
        "y_train, y_valid = Y[0:N_train], Y[N_train:]\n",
        "\n",
        "# Define a classifier model. (Lots of options to choose from.)\n",
        "clf = linear_model.SGDClassifier(loss='hinge', penalty='l2', alpha=0.1, \n",
        "        learning_rate='constant', eta0=0.001, max_iter=10000)\n",
        "#clf = linear_model.RidgeClassifier(alpha=0.1)\n",
        "#clf = sklearn.neighbors.KNeighborsClassifier(n_neighbors=1, metric='euclidean')\n",
        "\n",
        "# Fit/train/learn.\n",
        "clf.fit(X_train, y_train)\n",
        "\n",
        "# Compute accuracy on training data.\n",
        "accuracy_train = clf.score(X_train, y_train)\n",
        "print(f'Training accuracy: {accuracy_train:0.2}')\n",
        "\n",
        "# Compute accuracy on validation data.\n",
        "y_predicted = clf.predict(X_valid)\n",
        "accuracy_valid = np.sum(y_predicted == y_valid) / len(y_predicted)\n",
        "print(f'Validation accuracy: {accuracy_valid:0.2}')\n",
        "print('Validation predictions: ', y_predicted)\n",
        "\n",
        "print('Coefficients: ', clf.coef_, clf.intercept_)"
      ],
      "execution_count": 0,
      "outputs": []
    },
    {
      "metadata": {
        "id": "_K8v8opzr13z",
        "colab_type": "code",
        "colab": {}
      },
      "cell_type": "code",
      "source": [
        ""
      ],
      "execution_count": 0,
      "outputs": []
    }
  ]
}